{
  "nbformat": 4,
  "nbformat_minor": 0,
  "metadata": {
    "colab": {
      "provenance": []
    },
    "kernelspec": {
      "name": "python3",
      "display_name": "Python 3"
    },
    "language_info": {
      "name": "python"
    }
  },
  "cells": [
    {
      "cell_type": "markdown",
      "source": [
        "**Statistics Assignment**"
      ],
      "metadata": {
        "id": "3t__pQDd5KKi"
      }
    },
    {
      "cell_type": "code",
      "source": [
        "#Ans1\n",
        "import random\n",
        "\n",
        "int_list = random.choices(range(90, 131), k=100)\n",
        "print(int_list)"
      ],
      "metadata": {
        "id": "kVKJSvbX5hyR",
        "colab": {
          "base_uri": "https://localhost:8080/"
        },
        "outputId": "9356b153-f046-4d3d-8234-3dc8542d8efe"
      },
      "execution_count": 1,
      "outputs": [
        {
          "output_type": "stream",
          "name": "stdout",
          "text": [
            "[106, 113, 106, 115, 120, 106, 91, 99, 127, 114, 105, 126, 112, 104, 106, 120, 115, 105, 102, 121, 116, 94, 96, 90, 92, 122, 93, 114, 110, 126, 126, 99, 107, 97, 125, 110, 115, 116, 108, 99, 93, 118, 128, 119, 123, 124, 106, 106, 130, 110, 94, 127, 130, 114, 109, 121, 95, 106, 117, 96, 113, 117, 109, 123, 94, 104, 127, 118, 108, 102, 91, 93, 125, 118, 120, 105, 100, 123, 118, 127, 129, 105, 117, 108, 121, 118, 104, 119, 100, 129, 114, 112, 119, 96, 115, 90, 106, 111, 111, 123]\n"
          ]
        }
      ]
    },
    {
      "cell_type": "code",
      "source": [
        "#Ans1.1\n",
        "import numpy as np\n",
        "\n",
        "def calculate_mean(lst):\n",
        "    return np.mean(lst)\n",
        "\n",
        "def calculate_median(lst):\n",
        "    return np.median(lst)\n",
        "\n",
        "mean_value = calculate_mean(int_list)\n",
        "median_value = calculate_median(int_list)\n",
        "\n",
        "print(\"Mean:\", mean_value)\n",
        "print(\"Median:\", median_value)"
      ],
      "metadata": {
        "colab": {
          "base_uri": "https://localhost:8080/"
        },
        "id": "-fK1w-SjQZLN",
        "outputId": "b1d11ea8-6a26-46d2-ba99-86a18828afca"
      },
      "execution_count": 2,
      "outputs": [
        {
          "output_type": "stream",
          "name": "stdout",
          "text": [
            "Mean: 111.16\n",
            "Median: 112.0\n"
          ]
        }
      ]
    },
    {
      "cell_type": "code",
      "source": [
        "#Ans1.2\n",
        "from scipy import stats\n",
        "\n",
        "def calculate_mode(lst):\n",
        "    mode_value, count = stats.mode(lst)\n",
        "    # Check if mode_value is a scalar and return it directly if it is.\n",
        "    if isinstance(mode_value, np.ndarray):\n",
        "        return mode_value[0]\n",
        "    else:\n",
        "        return mode_value\n",
        "\n",
        "mode_value = calculate_mode(int_list)\n",
        "print(\"Mode:\", mode_value)"
      ],
      "metadata": {
        "colab": {
          "base_uri": "https://localhost:8080/"
        },
        "id": "89qLVnenSHDP",
        "outputId": "daba583d-99cf-46be-9c0f-3e667107826b"
      },
      "execution_count": 3,
      "outputs": [
        {
          "output_type": "stream",
          "name": "stdout",
          "text": [
            "Mode: 106\n"
          ]
        }
      ]
    },
    {
      "cell_type": "code",
      "source": [
        "#Ans1.3\n",
        "def weighted_mean(values, weights):\n",
        "    return np.average(values, weights=weights)\n",
        "\n",
        "values = int_list\n",
        "weights = np.random.random(100)\n",
        "weighted_mean_value = weighted_mean(values, weights)\n",
        "\n",
        "print(\"Weighted Mean:\", weighted_mean_value)\n"
      ],
      "metadata": {
        "colab": {
          "base_uri": "https://localhost:8080/"
        },
        "id": "rllCyorpSahC",
        "outputId": "9e240ca8-f6fa-48fb-8e71-0ec636d75ab7"
      },
      "execution_count": 4,
      "outputs": [
        {
          "output_type": "stream",
          "name": "stdout",
          "text": [
            "Weighted Mean: 112.20336926010178\n"
          ]
        }
      ]
    },
    {
      "cell_type": "code",
      "source": [
        "#Ans1.4\n",
        "def geometric_mean(lst):\n",
        "    return stats.gmean(lst)\n",
        "\n",
        "geo_mean = geometric_mean(int_list)\n",
        "print(\"Geometric Mean:\", geo_mean)"
      ],
      "metadata": {
        "colab": {
          "base_uri": "https://localhost:8080/"
        },
        "id": "_04nvGLQSnto",
        "outputId": "85ba3422-95d9-4f9d-9d51-1359f5f9948f"
      },
      "execution_count": 5,
      "outputs": [
        {
          "output_type": "stream",
          "name": "stdout",
          "text": [
            "Geometric Mean: 110.59740022273539\n"
          ]
        }
      ]
    },
    {
      "cell_type": "code",
      "source": [
        "#Ans1.5\n",
        "def harmonic_mean(lst):\n",
        "    return stats.hmean(lst)\n",
        "\n",
        "harmonic_mean_value = harmonic_mean(int_list)\n",
        "print(\"Harmonic Mean:\", harmonic_mean_value)"
      ],
      "metadata": {
        "colab": {
          "base_uri": "https://localhost:8080/"
        },
        "id": "b_fBdBKgS2Hs",
        "outputId": "ae02a333-51c6-4cef-c872-5ac6b3bfc025"
      },
      "execution_count": 6,
      "outputs": [
        {
          "output_type": "stream",
          "name": "stdout",
          "text": [
            "Harmonic Mean: 110.02446645292278\n"
          ]
        }
      ]
    },
    {
      "cell_type": "code",
      "source": [
        "#Ans1.6\n",
        "def midrange(lst):\n",
        "    return (min(lst) + max(lst)) / 2\n",
        "\n",
        "midrange_value = midrange(int_list)\n",
        "print(\"Midrange:\", midrange_value)\n"
      ],
      "metadata": {
        "colab": {
          "base_uri": "https://localhost:8080/"
        },
        "id": "5XgWqx_vS8mQ",
        "outputId": "f48583c9-7079-42de-d939-704893ce99b0"
      },
      "execution_count": 7,
      "outputs": [
        {
          "output_type": "stream",
          "name": "stdout",
          "text": [
            "Midrange: 110.0\n"
          ]
        }
      ]
    },
    {
      "cell_type": "code",
      "source": [
        "#Ans1.7\n",
        "def trimmed_mean(lst, proportion):\n",
        "    return stats.trim_mean(lst, proportion)\n",
        "\n",
        "trimmed_mean_value = trimmed_mean(int_list, 0.05)  # Trimming 5% from both ends\n",
        "print(\"Trimmed Mean:\", trimmed_mean_value)"
      ],
      "metadata": {
        "colab": {
          "base_uri": "https://localhost:8080/"
        },
        "id": "8oe6KRiTTFhS",
        "outputId": "cc07d1df-05c9-4ed6-8421-0903352e8212"
      },
      "execution_count": 8,
      "outputs": [
        {
          "output_type": "stream",
          "name": "stdout",
          "text": [
            "Trimmed Mean: 111.28888888888889\n"
          ]
        }
      ]
    },
    {
      "cell_type": "code",
      "source": [
        "#Ans2\n",
        "int_list2 = random.choices(range(200, 301), k=500)\n",
        "print(int_list2)\n"
      ],
      "metadata": {
        "colab": {
          "base_uri": "https://localhost:8080/"
        },
        "id": "XTyXD1caTUEX",
        "outputId": "413b1667-20b7-4eaf-98e9-31491c1575cf"
      },
      "execution_count": 9,
      "outputs": [
        {
          "output_type": "stream",
          "name": "stdout",
          "text": [
            "[289, 207, 210, 236, 237, 283, 267, 260, 228, 300, 272, 284, 248, 247, 216, 253, 203, 266, 221, 296, 219, 290, 222, 264, 246, 203, 215, 287, 269, 263, 250, 237, 205, 279, 238, 261, 209, 217, 251, 261, 224, 252, 212, 296, 257, 250, 266, 278, 300, 281, 265, 251, 244, 216, 228, 208, 258, 279, 234, 205, 284, 272, 284, 260, 264, 274, 282, 214, 246, 200, 228, 214, 292, 293, 280, 285, 235, 297, 241, 248, 205, 261, 279, 240, 271, 269, 205, 202, 289, 218, 248, 201, 248, 251, 207, 266, 211, 242, 270, 213, 247, 202, 292, 290, 262, 269, 202, 264, 210, 257, 228, 206, 269, 275, 232, 284, 268, 284, 216, 268, 278, 222, 288, 251, 245, 278, 287, 269, 267, 229, 200, 274, 288, 273, 266, 248, 200, 258, 268, 255, 248, 253, 287, 258, 267, 201, 211, 269, 249, 210, 285, 244, 241, 250, 231, 212, 269, 205, 245, 299, 272, 241, 219, 206, 211, 289, 206, 289, 252, 216, 288, 234, 261, 257, 242, 204, 206, 296, 279, 215, 233, 260, 229, 239, 247, 222, 245, 222, 263, 252, 297, 224, 267, 276, 229, 279, 247, 294, 226, 282, 281, 257, 291, 291, 248, 240, 236, 254, 238, 291, 234, 200, 300, 206, 267, 271, 237, 217, 233, 282, 232, 202, 229, 238, 278, 285, 235, 257, 230, 210, 266, 217, 294, 233, 287, 248, 283, 283, 228, 232, 255, 218, 206, 200, 226, 225, 271, 270, 260, 246, 245, 284, 285, 204, 232, 244, 281, 226, 241, 287, 275, 295, 243, 250, 253, 239, 252, 278, 213, 273, 255, 259, 299, 218, 228, 286, 223, 214, 211, 206, 263, 270, 209, 271, 284, 291, 261, 251, 204, 203, 210, 223, 241, 206, 247, 218, 288, 256, 239, 273, 297, 228, 294, 203, 221, 211, 235, 294, 278, 253, 250, 214, 298, 250, 240, 264, 213, 222, 291, 282, 262, 286, 283, 243, 251, 218, 253, 217, 245, 261, 216, 260, 201, 222, 236, 296, 235, 270, 201, 267, 250, 300, 296, 296, 267, 228, 217, 240, 204, 235, 248, 242, 242, 252, 248, 203, 214, 222, 235, 210, 242, 300, 207, 240, 289, 296, 288, 263, 215, 220, 298, 224, 216, 268, 227, 220, 265, 225, 274, 228, 282, 229, 284, 242, 210, 235, 213, 210, 230, 249, 232, 226, 220, 258, 294, 216, 286, 263, 282, 259, 266, 243, 212, 280, 272, 224, 214, 204, 297, 205, 248, 243, 255, 250, 253, 238, 208, 261, 218, 289, 287, 287, 292, 225, 211, 205, 247, 224, 266, 292, 283, 238, 286, 236, 267, 206, 275, 276, 290, 203, 290, 233, 300, 269, 236, 277, 252, 233, 236, 210, 275, 274, 224, 224, 251, 272, 210, 298, 257, 249, 294, 276, 241, 248, 201, 207, 244, 233, 210, 264, 220, 240, 280, 205, 262, 280, 259, 227, 252, 221, 285, 260, 294, 277, 293, 276, 206, 272, 263, 290, 278, 299, 224, 240, 267, 214, 285, 288, 270, 239]\n"
          ]
        }
      ]
    },
    {
      "cell_type": "code",
      "source": [
        "#Ans2.1\n",
        "import matplotlib.pyplot as plt\n",
        "import seaborn as sns\n",
        "\n",
        "# Frequency & Gaussian distribution\n",
        "plt.figure(figsize=(12, 6))\n",
        "sns.histplot(int_list2)\n",
        "plt.title(\"Frequency & Gaussian Distribution\")\n",
        "plt.show()\n",
        "\n",
        "# Frequency smoothed KDE plot\n",
        "plt.figure(figsize=(12, 6))\n",
        "sns.kdeplot(int_list2, color = 'r')\n",
        "plt.title(\"Smoothed KDE Plot\")\n",
        "plt.show()\n",
        "\n",
        "# Gaussian distribution & smoothed KDE plot\n",
        "plt.figure(figsize=(12, 6))\n",
        "sns.histplot(int_list2, kde=True, stat=\"density\")\n",
        "sns.kdeplot(int_list2, color='red')\n",
        "plt.title(\"Gaussian Distribution & Smoothed KDE Plot\")\n",
        "plt.show()\n"
      ],
      "metadata": {
        "colab": {
          "base_uri": "https://localhost:8080/",
          "height": 1000
        },
        "id": "AlIRRbPmTjsw",
        "outputId": "2d36bc88-1156-45a0-bdbd-c5d2cea3fff9"
      },
      "execution_count": 10,
      "outputs": [
        {
          "output_type": "display_data",
          "data": {
            "text/plain": [
              "<Figure size 1200x600 with 1 Axes>"
            ],
            "image/png": "[encoded data removed]"
          },
          "metadata": {}
        },
        {
          "output_type": "display_data",
          "data": {
            "text/plain": [
              "<Figure size 1200x600 with 1 Axes>"
            ],
            "image/png": "[encoded data removed]"
          },
          "metadata": {}
        },
        {
          "output_type": "display_data",
          "data": {
            "text/plain": [
              "<Figure size 1200x600 with 1 Axes>"
            ],
            "image/png": "[encoded data removed]"
          },
          "metadata": {}
        }
      ]
    },
    {
      "cell_type": "code",
      "source": [
        "#Ans2.2\n",
        "def calculate_range(lst):\n",
        "    return max(lst) - min(lst)\n",
        "\n",
        "range_value = calculate_range(int_list2)\n",
        "print(\"Range:\", range_value)"
      ],
      "metadata": {
        "colab": {
          "base_uri": "https://localhost:8080/"
        },
        "id": "fSSlWb2LUFCY",
        "outputId": "253d266f-6b2a-4db6-aeeb-73e68f4df6d2"
      },
      "execution_count": 11,
      "outputs": [
        {
          "output_type": "stream",
          "name": "stdout",
          "text": [
            "Range: 100\n"
          ]
        }
      ]
    },
    {
      "cell_type": "code",
      "source": [
        "#Ans2.3\n",
        "def calculate_variance(lst):\n",
        "    return np.var(lst)\n",
        "\n",
        "def calculate_std_dev(lst):\n",
        "    return np.std(lst)\n",
        "\n",
        "variance_value = calculate_variance(int_list2)\n",
        "std_dev_value = calculate_std_dev(int_list2)\n",
        "\n",
        "print(\"Variance:\", variance_value)\n",
        "print(\"Standard Deviation:\", std_dev_value)"
      ],
      "metadata": {
        "colab": {
          "base_uri": "https://localhost:8080/"
        },
        "id": "c1gJ6siDU1DP",
        "outputId": "ac9648fb-ab61-4954-ff9f-536a4852d50d"
      },
      "execution_count": 12,
      "outputs": [
        {
          "output_type": "stream",
          "name": "stdout",
          "text": [
            "Variance: 847.799916\n",
            "Standard Deviation: 29.117003898066162\n"
          ]
        }
      ]
    },
    {
      "cell_type": "code",
      "source": [
        "#Ans2.4\n",
        "def calculate_iqr(lst):\n",
        "    return np.percentile(lst, 75) - np.percentile(lst, 25)\n",
        "\n",
        "iqr_value = calculate_iqr(int_list2)\n",
        "print(\"Interquartile Range (IQR):\", iqr_value)"
      ],
      "metadata": {
        "colab": {
          "base_uri": "https://localhost:8080/"
        },
        "id": "d3RnUYVvVDTC",
        "outputId": "54359776-c119-4749-ee58-92f2b57e9288"
      },
      "execution_count": 13,
      "outputs": [
        {
          "output_type": "stream",
          "name": "stdout",
          "text": [
            "Interquartile Range (IQR): 50.0\n"
          ]
        }
      ]
    },
    {
      "cell_type": "code",
      "source": [
        "#Ans2.5\n",
        "def coefficient_of_variation(lst):\n",
        "    return (np.std(lst) / np.mean(lst)) * 100\n",
        "\n",
        "cv_value = coefficient_of_variation(int_list2)\n",
        "print(\"Coefficient of Variation:\", cv_value)"
      ],
      "metadata": {
        "colab": {
          "base_uri": "https://localhost:8080/"
        },
        "id": "O0UaWUzxVMPG",
        "outputId": "0ba9b673-c459-4f16-e958-e604e4eb333d"
      },
      "execution_count": 14,
      "outputs": [
        {
          "output_type": "stream",
          "name": "stdout",
          "text": [
            "Coefficient of Variation: 11.673791364862026\n"
          ]
        }
      ]
    },
    {
      "cell_type": "code",
      "source": [
        "#Ans2.6\n",
        "def mean_absolute_deviation(lst):\n",
        "    return np.mean(np.abs(lst - np.mean(lst)))\n",
        "\n",
        "mad_value = mean_absolute_deviation(int_list2)\n",
        "print(\"Mean Absolute Deviation (MAD):\", mad_value)"
      ],
      "metadata": {
        "colab": {
          "base_uri": "https://localhost:8080/"
        },
        "id": "IBhMilTYVVtO",
        "outputId": "2c82636b-d602-4ccc-dc76-a307c10bf624"
      },
      "execution_count": 15,
      "outputs": [
        {
          "output_type": "stream",
          "name": "stdout",
          "text": [
            "Mean Absolute Deviation (MAD): 25.058\n"
          ]
        }
      ]
    },
    {
      "cell_type": "code",
      "source": [
        "#Ans2.7\n",
        "def quartile_deviation(lst):\n",
        "    q1 = np.percentile(lst, 25)\n",
        "    q3 = np.percentile(lst, 75)\n",
        "    return (q3 - q1) / 2\n",
        "\n",
        "quartile_dev_value = quartile_deviation(int_list2)\n",
        "print(\"Quartile Deviation:\", quartile_dev_value)"
      ],
      "metadata": {
        "colab": {
          "base_uri": "https://localhost:8080/"
        },
        "id": "aWMGh0TaVjVZ",
        "outputId": "0ff5ed2e-b9b2-42e6-96f7-3c67ad57df37"
      },
      "execution_count": 16,
      "outputs": [
        {
          "output_type": "stream",
          "name": "stdout",
          "text": [
            "Quartile Deviation: 25.0\n"
          ]
        }
      ]
    },
    {
      "cell_type": "code",
      "source": [
        "#Ans2.8\n",
        "def coefficient_of_dispersion(lst):\n",
        "    return (max(lst) - min(lst)) / (max(lst) + min(lst))\n",
        "\n",
        "cod_value = coefficient_of_dispersion(int_list2)\n",
        "print(\"Coefficient of Dispersion:\", cod_value)"
      ],
      "metadata": {
        "colab": {
          "base_uri": "https://localhost:8080/"
        },
        "id": "2kgyyE--Vvow",
        "outputId": "f2cfef93-8e0e-4358-d969-ca416eafd8fb"
      },
      "execution_count": 17,
      "outputs": [
        {
          "output_type": "stream",
          "name": "stdout",
          "text": [
            "Coefficient of Dispersion: 0.2\n"
          ]
        }
      ]
    },
    {
      "cell_type": "code",
      "source": [
        "#Ans3\n",
        "class DiscreteRandomVariable:\n",
        "    def __init__(self, outcomes, probabilities):\n",
        "        self.outcomes = outcomes\n",
        "        self.probabilities = probabilities\n",
        "\n",
        "    def expected_value(self):\n",
        "        return sum(o * p for o, p in zip(self.outcomes, self.probabilities))\n",
        "\n",
        "    def variance(self):\n",
        "        mean = self.expected_value()\n",
        "        return sum(p * (o - mean) ** 2 for o, p in zip(self.outcomes, self.probabilities))\n",
        "\n",
        "outcomes = [1, 2, 3, 4, 5, 6]\n",
        "probabilities = [1/6] * 6\n",
        "random_variable = DiscreteRandomVariable(outcomes, probabilities)\n",
        "\n",
        "print(\"Expected Value:\", random_variable.expected_value())\n",
        "print(\"Variance:\", random_variable.variance())"
      ],
      "metadata": {
        "colab": {
          "base_uri": "https://localhost:8080/"
        },
        "id": "NjP1m9uvWDQ8",
        "outputId": "4b672589-77ce-4af7-f847-336f17e18370"
      },
      "execution_count": 18,
      "outputs": [
        {
          "output_type": "stream",
          "name": "stdout",
          "text": [
            "Expected Value: 3.5\n",
            "Variance: 2.9166666666666665\n"
          ]
        }
      ]
    },
    {
      "cell_type": "code",
      "source": [
        "#Ans4\n",
        "def roll_die(n):\n",
        "    outcomes = [random.randint(1, 6) for _ in range(n)]\n",
        "    return outcomes\n",
        "\n",
        "def expected_value_die(outcomes):\n",
        "    return sum(outcomes) / len(outcomes)\n",
        "\n",
        "def variance_die(outcomes):\n",
        "    mean = expected_value_die(outcomes)\n",
        "    return sum((x - mean) ** 2 for x in outcomes) / len(outcomes)\n",
        "\n",
        "die_rolls = roll_die(1000)\n",
        "\n",
        "expected_value = expected_value_die(die_rolls)\n",
        "variance = variance_die(die_rolls)\n",
        "\n",
        "print(\"Expected Value of die rolls:\", expected_value)\n",
        "print(\"Variance of die rolls:\", variance)"
      ],
      "metadata": {
        "colab": {
          "base_uri": "https://localhost:8080/"
        },
        "id": "2J27WbPGWmDt",
        "outputId": "43f908a4-3262-434b-a354-145c7ce9e0da"
      },
      "execution_count": 19,
      "outputs": [
        {
          "output_type": "stream",
          "name": "stdout",
          "text": [
            "Expected Value of die rolls: 3.536\n",
            "Variance of die rolls: 2.888704000000021\n"
          ]
        }
      ]
    },
    {
      "cell_type": "code",
      "source": [
        "#Ans5\n",
        "def random_samples_binomial(n, p, size):\n",
        "    samples = np.random.binomial(n, p, size)\n",
        "    return samples\n",
        "\n",
        "def random_samples_poisson(lam, size):\n",
        "    samples = np.random.poisson(lam, size)\n",
        "    return samples\n",
        "\n",
        "# Binomial Distribution\n",
        "binomial_samples = random_samples_binomial(10, 0.5, 1000)\n",
        "print(\"Binomial Mean:\", np.mean(binomial_samples))\n",
        "print(\"Binomial Variance:\", np.var(binomial_samples))\n",
        "\n",
        "# Poisson Distribution\n",
        "poisson_samples = random_samples_poisson(3, 1000)\n",
        "print(\"Poisson Mean:\", np.mean(poisson_samples))\n",
        "print(\"Poisson Variance:\", np.var(poisson_samples))"
      ],
      "metadata": {
        "colab": {
          "base_uri": "https://localhost:8080/"
        },
        "id": "gO4_aDNEWuKl",
        "outputId": "5e0cd55f-bfe2-463a-d78f-22861a9baa7e"
      },
      "execution_count": 20,
      "outputs": [
        {
          "output_type": "stream",
          "name": "stdout",
          "text": [
            "Binomial Mean: 5.016\n",
            "Binomial Variance: 2.525744\n",
            "Poisson Mean: 2.97\n",
            "Poisson Variance: 2.8551\n"
          ]
        }
      ]
    },
    {
      "cell_type": "code",
      "source": [
        "#Ans6\n",
        "def gaussian_samples(mean, std_dev, size):\n",
        "    samples = np.random.normal(mean, std_dev, size)\n",
        "    return samples\n",
        "\n",
        "gaussian_data = gaussian_samples(0, 1, 1000)\n",
        "\n",
        "mean_value = np.mean(gaussian_data)\n",
        "variance_value = np.var(gaussian_data)\n",
        "std_dev_value = np.std(gaussian_data)\n",
        "\n",
        "print(\"Gaussian Mean:\", mean_value)\n",
        "print(\"Gaussian Variance:\", variance_value)\n",
        "print(\"Gaussian Standard Deviation:\", std_dev_value)"
      ],
      "metadata": {
        "colab": {
          "base_uri": "https://localhost:8080/"
        },
        "id": "4fq5AGGhbT8_",
        "outputId": "47c8f43d-15d2-48a9-a1c8-7a154277ee58"
      },
      "execution_count": 21,
      "outputs": [
        {
          "output_type": "stream",
          "name": "stdout",
          "text": [
            "Gaussian Mean: 0.017272455584305693\n",
            "Gaussian Variance: 0.9566275841875169\n",
            "Gaussian Standard Deviation: 0.9780734042941343\n"
          ]
        }
      ]
    },
    {
      "cell_type": "code",
      "source": [
        "#Ans7\n",
        "import seaborn as sns\n",
        "import pandas as pd\n",
        "\n",
        "tips = sns.load_dataset('tips')\n",
        "\n",
        "total_bill = tips['total_bill']\n",
        "tip = tips['tip']\n",
        "\n",
        "print(\"Total Bill:\", total_bill)\n",
        "print(\"Tip:\", tip)"
      ],
      "metadata": {
        "colab": {
          "base_uri": "https://localhost:8080/"
        },
        "id": "otbQafhZbicB",
        "outputId": "db677b75-9b46-4658-acb0-67b185b316e5"
      },
      "execution_count": 22,
      "outputs": [
        {
          "output_type": "stream",
          "name": "stdout",
          "text": [
            "Total Bill: 0      16.99\n",
            "1      10.34\n",
            "2      21.01\n",
            "3      23.68\n",
            "4      24.59\n",
            "       ...  \n",
            "239    29.03\n",
            "240    27.18\n",
            "241    22.67\n",
            "242    17.82\n",
            "243    18.78\n",
            "Name: total_bill, Length: 244, dtype: float64\n",
            "Tip: 0      1.01\n",
            "1      1.66\n",
            "2      3.50\n",
            "3      3.31\n",
            "4      3.61\n",
            "       ... \n",
            "239    5.92\n",
            "240    2.00\n",
            "241    2.00\n",
            "242    1.75\n",
            "243    3.00\n",
            "Name: tip, Length: 244, dtype: float64\n"
          ]
        }
      ]
    },
    {
      "cell_type": "code",
      "source": [
        "#Ans7.1\n",
        "def calculate_skewness(column):\n",
        "    return stats.skew(column)\n",
        "\n",
        "total_bill_skewness = calculate_skewness(total_bill)\n",
        "tip_skewness = calculate_skewness(tip)\n",
        "\n",
        "print(\"Total Bill Skewness:\", total_bill_skewness)\n",
        "print(\"Tip Skewness:\", tip_skewness)"
      ],
      "metadata": {
        "colab": {
          "base_uri": "https://localhost:8080/"
        },
        "id": "Rf6LW5bwb0qq",
        "outputId": "699c0b7d-2dec-405d-c392-a9511c96160a"
      },
      "execution_count": 23,
      "outputs": [
        {
          "output_type": "stream",
          "name": "stdout",
          "text": [
            "Total Bill Skewness: 1.1262346334818638\n",
            "Tip Skewness: 1.4564266884221506\n"
          ]
        }
      ]
    },
    {
      "cell_type": "code",
      "source": [
        "#Ans7.2\n",
        "def skewness_type(skewness_value):\n",
        "    if skewness_value > 0:\n",
        "        return \"Positive Skewness\"\n",
        "    elif skewness_value < 0:\n",
        "        return \"Negative Skewness\"\n",
        "    else:\n",
        "        return \"Approximately Symmetric\"\n",
        "\n",
        "print(\"Total Bill Skewness Type:\", skewness_type(total_bill_skewness))\n",
        "print(\"Tip Skewness Type:\", skewness_type(tip_skewness))"
      ],
      "metadata": {
        "colab": {
          "base_uri": "https://localhost:8080/"
        },
        "id": "l95HezyFcT9F",
        "outputId": "5068dbf6-b336-48de-c835-c0db47a4a950"
      },
      "execution_count": 24,
      "outputs": [
        {
          "output_type": "stream",
          "name": "stdout",
          "text": [
            "Total Bill Skewness Type: Positive Skewness\n",
            "Tip Skewness Type: Positive Skewness\n"
          ]
        }
      ]
    },
    {
      "cell_type": "code",
      "source": [
        "#Ans7.3\n",
        "def calculate_covariance(col1, col2):\n",
        "    return np.cov(col1, col2)[0][1]\n",
        "\n",
        "covariance_value = calculate_covariance(total_bill, tip)\n",
        "print(\"Covariance between Total Bill and Tip:\", covariance_value)"
      ],
      "metadata": {
        "colab": {
          "base_uri": "https://localhost:8080/"
        },
        "id": "Dlny6tDocbI_",
        "outputId": "f253ce6f-40f1-4a0e-e9d8-d61759597829"
      },
      "execution_count": 25,
      "outputs": [
        {
          "output_type": "stream",
          "name": "stdout",
          "text": [
            "Covariance between Total Bill and Tip: 8.323501629224854\n"
          ]
        }
      ]
    },
    {
      "cell_type": "code",
      "source": [
        "#Ans7.4\n",
        "def calculate_pearson_correlation(col1, col2):\n",
        "    return stats.pearsonr(col1, col2)[0]\n",
        "\n",
        "pearson_correlation_value = calculate_pearson_correlation(total_bill, tip)\n",
        "print(\"Pearson Correlation between Total Bill and Tip:\", pearson_correlation_value)"
      ],
      "metadata": {
        "colab": {
          "base_uri": "https://localhost:8080/"
        },
        "id": "8w2ceMyscwuA",
        "outputId": "57e7416f-5e66-4f9d-d98f-804eaa21b166"
      },
      "execution_count": 26,
      "outputs": [
        {
          "output_type": "stream",
          "name": "stdout",
          "text": [
            "Pearson Correlation between Total Bill and Tip: 0.6757341092113647\n"
          ]
        }
      ]
    },
    {
      "cell_type": "code",
      "source": [
        "#Ans7.5\n",
        "plt.figure(figsize=(8, 6))\n",
        "plt.scatter(total_bill, tip, alpha=0.6)\n",
        "plt.title(\"Scatter Plot between Total Bill and Tip\")\n",
        "plt.xlabel(\"Total Bill\")\n",
        "plt.ylabel(\"Tip\")\n",
        "plt.show()"
      ],
      "metadata": {
        "colab": {
          "base_uri": "https://localhost:8080/",
          "height": 564
        },
        "id": "SvI6WpE8c6jG",
        "outputId": "caab6103-1953-4d87-d033-7d92d70b3940"
      },
      "execution_count": 27,
      "outputs": [
        {
          "output_type": "display_data",
          "data": {
            "text/plain": [
              "<Figure size 800x600 with 1 Axes>"
            ],
            "image/png": "[encoded data removed]"
          },
          "metadata": {}
        }
      ]
    },
    {
      "cell_type": "code",
      "source": [
        "#Ans8\n",
        "from scipy.stats import norm\n",
        "\n",
        "def calculate_pdf(x, mean, std_dev):\n",
        "    return norm.pdf(x, mean, std_dev)\n",
        "\n",
        "x_values = np.linspace(-3, 3, 1000)\n",
        "pdf_values = calculate_pdf(x_values, 0, 1)\n",
        "\n",
        "plt.plot(x_values, pdf_values)\n",
        "plt.title(\"Probability Density Function (PDF) for Normal Distribution\")\n",
        "plt.show()"
      ],
      "metadata": {
        "colab": {
          "base_uri": "https://localhost:8080/",
          "height": 452
        },
        "id": "LXhvt0k-dF07",
        "outputId": "da86d7dc-b5cc-43cf-e4a8-f3784e1c1a46"
      },
      "execution_count": 28,
      "outputs": [
        {
          "output_type": "display_data",
          "data": {
            "text/plain": [
              "<Figure size 640x480 with 1 Axes>"
            ],
            "image/png": "[encoded data removed]"
          },
          "metadata": {}
        }
      ]
    },
    {
      "cell_type": "code",
      "source": [
        "#Ans9\n",
        "from scipy.stats import expon\n",
        "\n",
        "def calculate_cdf(x, scale):\n",
        "    return expon.cdf(x, scale=scale)\n",
        "\n",
        "x_values = np.linspace(0, 10, 1000)\n",
        "cdf_values = calculate_cdf(x_values, scale=1)\n",
        "\n",
        "plt.plot(x_values, cdf_values)\n",
        "plt.title(\"Cumulative Distribution Function (CDF) for Exponential Distribution\")\n",
        "plt.show()"
      ],
      "metadata": {
        "colab": {
          "base_uri": "https://localhost:8080/",
          "height": 452
        },
        "id": "dOpbXFZhdfkX",
        "outputId": "c306ac00-0da5-4aef-c88e-b0668cd0519f"
      },
      "execution_count": 29,
      "outputs": [
        {
          "output_type": "display_data",
          "data": {
            "text/plain": [
              "<Figure size 640x480 with 1 Axes>"
            ],
            "image/png": "[encoded data removed]"
          },
          "metadata": {}
        }
      ]
    },
    {
      "cell_type": "code",
      "source": [
        "#Ans10\n",
        "from scipy.stats import poisson\n",
        "\n",
        "def calculate_pmf_poisson(k, lam):\n",
        "    return poisson.pmf(k, lam)\n",
        "\n",
        "k_values = np.arange(0, 20)\n",
        "pmf_values = calculate_pmf_poisson(k_values, lam=3)\n",
        "\n",
        "plt.stem(k_values, pmf_values, use_line_collection=True)\n",
        "plt.title(\"Probability Mass Function (PMF) for Poisson Distribution\")\n",
        "plt.show()"
      ],
      "metadata": {
        "colab": {
          "base_uri": "https://localhost:8080/",
          "height": 508
        },
        "id": "inzmvdNoeEty",
        "outputId": "4f076a31-99d9-42be-e452-11cb38a7a673"
      },
      "execution_count": 30,
      "outputs": [
        {
          "output_type": "stream",
          "name": "stderr",
          "text": [
            "<ipython-input-30-c973d5998b38>:10: MatplotlibDeprecationWarning: The 'use_line_collection' parameter of stem() was deprecated in Matplotlib 3.6 and will be removed two minor releases later. If any parameter follows 'use_line_collection', they should be passed as keyword, not positionally.\n",
            "  plt.stem(k_values, pmf_values, use_line_collection=True)\n"
          ]
        },
        {
          "output_type": "display_data",
          "data": {
            "text/plain": [
              "<Figure size 640x480 with 1 Axes>"
            ],
            "image/png": "[encoded data removed]"
          },
          "metadata": {}
        }
      ]
    },
    {
      "cell_type": "markdown",
      "source": [
        "**Z-Test**"
      ],
      "metadata": {
        "id": "F2DuXJ9w--SS"
      }
    },
    {
      "cell_type": "code",
      "source": [
        "#Ans11\n",
        "import numpy as np\n",
        "from statsmodels.stats.weightstats import ztest\n",
        "\n",
        "old_layout = np.array([1] * 50 + [0] * 950)  # 50 purchases out of 1000 visitors\n",
        "new_layout = np.array([1] * 70 + [0] * 930)  # 70 purchases out of 1000 visitors\n",
        "\n",
        "old_mean = np.mean(old_layout)\n",
        "new_mean = np.mean(new_layout)\n",
        "\n",
        "z_stat, p_value = ztest(new_layout, old_layout)\n",
        "\n",
        "print(f\"Old Layout Mean: {old_mean}\")\n",
        "print(f\"New Layout Mean: {new_mean}\")\n",
        "print(f\"Z-Statistic: {z_stat}\")\n",
        "print(f\"P-Value: {p_value}\")\n",
        "\n",
        "alpha = 0.05\n",
        "if p_value < alpha:\n",
        "    print(\"Reject the null hypothesis: The new layout leads to a significantly higher conversion rate.\")\n",
        "else:\n",
        "    print(\"Fail to reject the null hypothesis: No significant difference in conversion rates between the old and new layouts.\")"
      ],
      "metadata": {
        "colab": {
          "base_uri": "https://localhost:8080/"
        },
        "id": "0ow50LFztV13",
        "outputId": "3f52cede-f532-4eff-e5fa-59f3e156b354"
      },
      "execution_count": 42,
      "outputs": [
        {
          "output_type": "stream",
          "name": "stdout",
          "text": [
            "Old Layout Mean: 0.05\n",
            "New Layout Mean: 0.07\n",
            "Z-Statistic: 1.883837962960912\n",
            "P-Value: 0.05958689675745177\n",
            "Fail to reject the null hypothesis: No significant difference in conversion rates between the old and new layouts.\n"
          ]
        }
      ]
    },
    {
      "cell_type": "code",
      "source": [
        "#Ans12\n",
        "before_program = np.array([75, 80, 85, 70, 90, 78, 92, 88, 82, 87])\n",
        "after_program = np.array([80, 85, 90, 80, 92, 80, 95, 90, 85, 88])\n",
        "\n",
        "Mean_Before_Program = np.mean(before_program)\n",
        "Mean_After_Program = np.mean(after_program)\n",
        "\n",
        "z_stat, p_value = ztest(before_program, after_program)\n",
        "\n",
        "print(f\"Mean_Before_Program: {Mean_Before_Program}\")\n",
        "print(f\"Mean_After_Program: {Mean_After_Program}\")\n",
        "print(f\"Z-Statistic: {z_stat}\")\n",
        "print(f\"P-Value: {p_value}\")\n",
        "\n",
        "alpha = 0.05\n",
        "if p_value < alpha:\n",
        "    print(\"The tutoring program has significantly improved the students' scores.\")\n",
        "else:\n",
        "    print(\"There is no significant improvement in students' scores after the tutoring program.\")\n"
      ],
      "metadata": {
        "colab": {
          "base_uri": "https://localhost:8080/"
        },
        "id": "KoJE7wbufFNt",
        "outputId": "ac9190b0-fd82-42f1-9007-e9899c085d19"
      },
      "execution_count": 46,
      "outputs": [
        {
          "output_type": "stream",
          "name": "stdout",
          "text": [
            "Mean_Before_Program: 82.7\n",
            "Mean_After_Program: 86.5\n",
            "Z-Statistic: -1.3600371723457605\n",
            "P-Value: 0.17381816101827674\n",
            "There is no significant improvement in students' scores after the tutoring program.\n"
          ]
        }
      ]
    },
    {
      "cell_type": "code",
      "source": [
        "#Ans13\n",
        "before_drug = np.array([145, 150, 140, 135, 155, 160, 152, 148, 130, 138])\n",
        "after_drug = np.array([130, 140, 132, 128, 145, 148, 138, 136, 125, 130])\n",
        "\n",
        "Mean_Before_Drug = np.mean(before_drug)\n",
        "Mean_After_Drug = np.mean(after_drug)\n",
        "\n",
        "z_stat, p_value = ztest(after_drug, before_drug)\n",
        "\n",
        "print(f\"Mean Before Drug: {Mean_Before_Drug}\")\n",
        "print(f\"Mean After Drug: {Mean_After_Drug}\")\n",
        "print(f\"Z-Statistic: {z_stat}\")\n",
        "print(f\"P-Value: {p_value}\")\n",
        "\n",
        "alpha = 0.05\n",
        "if p_value < alpha:\n",
        "    print(\"Reject the null hypothesis: The drug is effective in reducing blood pressure.\")\n",
        "else:\n",
        "    print(\"Fail to reject the null hypothesis: The drug is not effective in reducing blood pressure.\")"
      ],
      "metadata": {
        "colab": {
          "base_uri": "https://localhost:8080/"
        },
        "id": "cLHxP5Ezf_UD",
        "outputId": "ce9ce459-487a-4fbb-8133-edeb707e41a6"
      },
      "execution_count": 48,
      "outputs": [
        {
          "output_type": "stream",
          "name": "stdout",
          "text": [
            "Mean Before Drug: 145.3\n",
            "Mean After Drug: 135.2\n",
            "Z-Statistic: -2.639577121919447\n",
            "P-Value: 0.008300953387191556\n",
            "Reject the null hypothesis: The drug is effective in reducing blood pressure.\n"
          ]
        }
      ]
    },
    {
      "cell_type": "code",
      "source": [
        "#Ans14\n",
        "response_times = np.array([4.3, 3.8, 5.1, 4.9, 4.7, 4.2, 5.2, 4.5, 4.6, 4.4])\n",
        "\n",
        "z_statistic, p_value = ztest(response_times, value=5, alternative='smaller')\n",
        "mean = np.mean(response_times)\n",
        "\n",
        "print(f\"Mean Response Time: {mean}\")\n",
        "print(f\"Z-Statistic: {z_statistic}\")\n",
        "print(f\"P-Value: {p_value}\")\n",
        "\n",
        "alpha = 0.05\n",
        "if p_value < alpha:\n",
        "    print(\"Reject the null hypothesis: The average response time is less than 5 minutes.\")\n",
        "else:\n",
        "    print(\"Fail to reject the null hypothesis: The average response time is not significantly less than 5 minutes.\")\n"
      ],
      "metadata": {
        "id": "UkQb3L1Vl5q6",
        "colab": {
          "base_uri": "https://localhost:8080/"
        },
        "outputId": "e04c6908-6a90-4271-c221-534c4bea4525"
      },
      "execution_count": 50,
      "outputs": [
        {
          "output_type": "stream",
          "name": "stdout",
          "text": [
            "Mean Response Time: 4.57\n",
            "Z-Statistic: -3.1844572260429627\n",
            "P-Value: 0.0007251287113068958\n",
            "Reject the null hypothesis: The average response time is less than 5 minutes.\n"
          ]
        }
      ]
    },
    {
      "cell_type": "markdown",
      "source": [
        "**T-Test**"
      ],
      "metadata": {
        "id": "CuoxfdyH_Fni"
      }
    },
    {
      "cell_type": "code",
      "source": [
        "#Ans15\n",
        "layout_a_clicks = np.array([28, 32, 33, 29, 31, 34, 30, 35, 36, 37])\n",
        "layout_b_clicks = np.array([40, 41, 38, 42, 39, 44, 43, 41, 45, 47])\n",
        "\n",
        "t_stat, p_value = stats.ttest_ind(layout_a_clicks, layout_b_clicks)\n",
        "\n",
        "df = len(layout_a_clicks) + len(layout_b_clicks) - 2\n",
        "\n",
        "print(f\"T-Statistic: {t_stat}\")\n",
        "print(f\"P-Value: {p_value}\")\n",
        "print(f\"Degrees of Freedom: {df}\")\n",
        "\n",
        "alpha = 0.05\n",
        "if p_value < alpha:\n",
        "    print(\"Reject the null hypothesis: There is a significant difference in click-through rates between the two layouts.\")\n",
        "else:\n",
        "    print(\"Fail to reject the null hypothesis: There is no significant difference in click-through rates between the two layouts.\")"
      ],
      "metadata": {
        "colab": {
          "base_uri": "https://localhost:8080/"
        },
        "id": "zkpoKpxpyxqI",
        "outputId": "86e094be-73b6-4f65-cc8a-a3e0cf0a05ee"
      },
      "execution_count": 55,
      "outputs": [
        {
          "output_type": "stream",
          "name": "stdout",
          "text": [
            "T-Statistic: -7.298102156175071\n",
            "P-Value: 8.833437608301987e-07\n",
            "Degrees of Freedom: 18\n",
            "Reject the null hypothesis: There is a significant difference in click-through rates between the two layouts.\n"
          ]
        }
      ]
    },
    {
      "cell_type": "code",
      "source": [
        "#Ans16\n",
        "existing_drug_levels = np.array([180, 182, 175, 185, 178, 176, 172, 184, 179, 183])\n",
        "new_drug_levels = np.array([170, 172, 165, 168, 175, 173, 170, 178, 172, 176])\n",
        "\n",
        "t_stat, p_value = stats.ttest_rel(existing_drug_levels, new_drug_levels)\n",
        "\n",
        "print(f\"T-Statistic: {t_stat}\")\n",
        "print(f\"P-Value: {p_value}\")\n",
        "\n",
        "alpha = 0.05\n",
        "if p_value < alpha:\n",
        "    print(\"Reject the null hypothesis: The new drug is significantly more effective at reducing cholesterol levels.\")\n",
        "else:\n",
        "    print(\"Fail to reject the null hypothesis: There is no significant difference in cholesterol reduction between the new and existing drugs.\")\n",
        "\n"
      ],
      "metadata": {
        "colab": {
          "base_uri": "https://localhost:8080/"
        },
        "id": "5XYTQx3Iznry",
        "outputId": "d6240853-6fbf-4b26-bab8-1b9fd9526339"
      },
      "execution_count": 56,
      "outputs": [
        {
          "output_type": "stream",
          "name": "stdout",
          "text": [
            "T-Statistic: 5.266851623825876\n",
            "P-Value: 0.0005160202180080982\n",
            "Reject the null hypothesis: The new drug is significantly more effective at reducing cholesterol levels.\n"
          ]
        }
      ]
    },
    {
      "cell_type": "code",
      "source": [
        "#Ans17\n",
        "pre_intervention_scores = np.array([80, 85, 90, 75, 88, 82, 92, 78, 85, 87])\n",
        "post_intervention_scores = np.array([90, 92, 88, 92, 95, 91, 96, 93, 89, 93])\n",
        "\n",
        "t_stat, p_value = stats.ttest_rel(pre_intervention_scores, post_intervention_scores)\n",
        "\n",
        "print(f\"T-Statistic: {t_stat}\")\n",
        "print(f\"P-Value: {p_value}\")\n",
        "\n",
        "alpha = 0.05\n",
        "if p_value < alpha:\n",
        "    print(\"Reject the null hypothesis: The intervention program had a significant positive impact on test scores.\")\n",
        "else:\n",
        "    print(\"Fail to reject the null hypothesis: The intervention program did not have a significant impact on test scores.\")\n"
      ],
      "metadata": {
        "colab": {
          "base_uri": "https://localhost:8080/"
        },
        "id": "EaALzg-l1TcX",
        "outputId": "20a33e6f-b6df-40c1-adad-124fe01a20e5"
      },
      "execution_count": 57,
      "outputs": [
        {
          "output_type": "stream",
          "name": "stdout",
          "text": [
            "T-Statistic: -4.42840883965761\n",
            "P-Value: 0.0016509548165795493\n",
            "Reject the null hypothesis: The intervention program had a significant positive impact on test scores.\n"
          ]
        }
      ]
    },
    {
      "cell_type": "code",
      "source": [
        "#Ans18\n",
        "np.random.seed(0)\n",
        "male_salaries = np.random.normal(loc=50000, scale=10000, size=20)\n",
        "female_salaries = np.random.normal(loc=55000, scale=9000, size=20)\n",
        "\n",
        "t_statistic, p_value = stats.ttest_ind(male_salaries, female_salaries)\n",
        "\n",
        "print(f\"T-Statistic: {t_statistic}\")\n",
        "print(f\"P-Value: {p_value}\")\n",
        "\n",
        "if p_value < 0.05:\n",
        "    print(\"There is a statistically significant difference between the average salaries of male and female employees.\")\n",
        "else:\n",
        "    print(\"There is no statistically significant difference between the average salaries of male and female employees.\")\n"
      ],
      "metadata": {
        "colab": {
          "base_uri": "https://localhost:8080/"
        },
        "id": "ScfHQSvT2cLG",
        "outputId": "c375e1ad-7eef-4d5b-fbf9-30355901e111"
      },
      "execution_count": 58,
      "outputs": [
        {
          "output_type": "stream",
          "name": "stdout",
          "text": [
            "T-Statistic: 0.06114208969631383\n",
            "P-Value: 0.9515665020676465\n",
            "There is no statistically significant difference between the average salaries of male and female employees.\n"
          ]
        }
      ]
    },
    {
      "cell_type": "code",
      "source": [
        "#Ans19\n",
        "version1_scores = [85, 88, 82, 89, 87, 84, 90, 88, 85, 86, 91, 83, 87, 84, 89, 86, 84, 88, 85, 86, 89, 90, 87, 88, 85]\n",
        "version2_scores = [80, 78, 83, 81, 79, 82, 76, 80, 78, 81, 77, 82, 80, 79, 82, 79, 80, 81, 79, 82, 79, 78, 80, 81, 82]\n",
        "\n",
        "t_statistic, p_value = stats.ttest_ind(version1_scores, version2_scores)\n",
        "\n",
        "print(f\"T-Statistic: {t_statistic}\")\n",
        "print(f\"P-Value: {p_value}\")\n",
        "\n",
        "if p_value < 0.05:\n",
        "    print(\"There is a statistically significant difference in quality between the two versions of the product.\")\n",
        "else:\n",
        "    print(\"There is no statistically significant difference in quality between the two versions of the product.\")\n"
      ],
      "metadata": {
        "colab": {
          "base_uri": "https://localhost:8080/"
        },
        "id": "nxfaed5O4DQ-",
        "outputId": "6eacbb70-4a71-42a4-9a59-de1387217d9e"
      },
      "execution_count": 59,
      "outputs": [
        {
          "output_type": "stream",
          "name": "stdout",
          "text": [
            "T-Statistic: 11.325830417646698\n",
            "P-Value: 3.6824250702873965e-15\n",
            "There is a statistically significant difference in quality between the two versions of the product.\n"
          ]
        }
      ]
    },
    {
      "cell_type": "code",
      "source": [
        "#Ans20\n",
        "branch_a_scores = [4, 5, 3, 4, 5, 3, 4, 4, 4, 4, 4, 5, 5, 4, 4, 3, 4, 5, 4, 4, 3, 5, 4, 5, 4, 5]\n",
        "branch_b_scores = [3, 4, 2, 3, 4, 3, 2, 3, 4, 4, 3, 2, 4, 3, 3, 2, 3, 4, 4, 3, 3, 4, 3, 3, 4, 3]\n",
        "\n",
        "t_statistic, p_value = stats.ttest_ind(branch_a_scores, branch_b_scores)\n",
        "\n",
        "print(f\"T-Statistic: {t_statistic}\")\n",
        "print(f\"P-Value: {p_value}\")\n",
        "\n",
        "if p_value < 0.05:\n",
        "    print(\"There is a statistically significant difference in customer satisfaction between the two branches.\")\n",
        "else:\n",
        "    print(\"There is no statistically significant difference in customer satisfaction between the two branches.\")\n"
      ],
      "metadata": {
        "colab": {
          "base_uri": "https://localhost:8080/"
        },
        "id": "maGoTBbI4LHV",
        "outputId": "3407a453-af8a-435c-e6a7-40db352d47a5"
      },
      "execution_count": 60,
      "outputs": [
        {
          "output_type": "stream",
          "name": "stdout",
          "text": [
            "T-Statistic: 5.065255615456924\n",
            "P-Value: 5.931086278541254e-06\n",
            "There is a statistically significant difference in customer satisfaction between the two branches.\n"
          ]
        }
      ]
    },
    {
      "cell_type": "markdown",
      "source": [
        "**Chi-Square Test**"
      ],
      "metadata": {
        "id": "gpGhK3kj4VHk"
      }
    },
    {
      "cell_type": "code",
      "source": [
        "#Ans21\n",
        "from scipy.stats import chi2_contingency\n",
        "\n",
        "np.random.seed(0)\n",
        "age_groups = np.random.choice(['18-30', '31-50', '51+'], size=30)\n",
        "voter_preferences = np.random.choice(['Candidate A', 'Candidate B'], size=30)\n",
        "\n",
        "data = pd.DataFrame({'Age Group': age_groups, 'Voter Preference': voter_preferences})\n",
        "contingency_table = pd.crosstab(data['Age Group'], data['Voter Preference'])\n",
        "\n",
        "chi2, p, dof, expected = chi2_contingency(contingency_table)\n",
        "\n",
        "print(f\"Chi-Square Statistic: {chi2}\")\n",
        "print(f\"P-Value: {p}\")\n",
        "print(f\"Degrees of Freedom: {dof}\")\n",
        "\n",
        "if p < 0.05:\n",
        "    print(\"There is a significant association between age groups and voter preferences.\")\n",
        "else:\n",
        "    print(\"There is no significant association between age groups and voter preferences.\")\n"
      ],
      "metadata": {
        "colab": {
          "base_uri": "https://localhost:8080/"
        },
        "id": "p06IiDNj4RwY",
        "outputId": "6985edea-72b2-4920-ac3c-fa6325e8a40c"
      },
      "execution_count": 61,
      "outputs": [
        {
          "output_type": "stream",
          "name": "stdout",
          "text": [
            "Chi-Square Statistic: 1.4401669758812612\n",
            "P-Value: 0.48671161971286614\n",
            "Degrees of Freedom: 2\n",
            "There is no significant association between age groups and voter preferences.\n"
          ]
        }
      ]
    },
    {
      "cell_type": "code",
      "source": [
        "#Ans22\n",
        "data = np.array([[50, 30, 40, 20], [30, 40, 30, 40], [20, 30, 40, 30]])\n",
        "\n",
        "chi2, p, dof, expected = chi2_contingency(data)\n",
        "\n",
        "print(f\"Chi-Square Statistic: {chi2}\")\n",
        "print(f\"P-Value: {p}\")\n",
        "print(f\"Degrees of Freedom: {dof}\")\n",
        "print(\"Expected Frequencies:\")\n",
        "print(expected)\n",
        "\n",
        "if p < 0.05:\n",
        "    print(\"There is a significant relationship between product satisfaction levels and customer regions.\")\n",
        "else:\n",
        "    print(\"There is no significant relationship between product satisfaction levels and customer regions.\")\n"
      ],
      "metadata": {
        "colab": {
          "base_uri": "https://localhost:8080/"
        },
        "id": "_JUbrLqY4hci",
        "outputId": "55571b2d-03d6-46db-ca80-80f8ab91471c"
      },
      "execution_count": 62,
      "outputs": [
        {
          "output_type": "stream",
          "name": "stdout",
          "text": [
            "Chi-Square Statistic: 22.15007215007215\n",
            "P-Value: 0.0011373345272623016\n",
            "Degrees of Freedom: 6\n",
            "Expected Frequencies:\n",
            "[[35.  35.  38.5 31.5]\n",
            " [35.  35.  38.5 31.5]\n",
            " [30.  30.  33.  27. ]]\n",
            "There is a significant relationship between product satisfaction levels and customer regions.\n"
          ]
        }
      ]
    },
    {
      "cell_type": "code",
      "source": [
        "#Ans23\n",
        "data = np.array([[50, 30, 20], [30, 40, 30], [20, 30, 40]])\n",
        "\n",
        "chi2, p, dof, expected = chi2_contingency(data)\n",
        "\n",
        "print(f\"Chi-Square Statistic: {chi2}\")\n",
        "print(f\"P-Value: {p}\")\n",
        "print(f\"Degrees of Freedom: {dof}\")\n",
        "print(\"Expected Frequencies:\")\n",
        "print(expected)\n",
        "\n",
        "if p < 0.05:\n",
        "    print(\"There is a significant difference in job performance levels before and after training.\")\n",
        "else:\n",
        "    print(\"There is no significant difference in job performance levels before and after training.\")\n"
      ],
      "metadata": {
        "colab": {
          "base_uri": "https://localhost:8080/"
        },
        "id": "__2Nt0qO4qmO",
        "outputId": "ce339731-96d3-441e-c486-610e562e7498"
      },
      "execution_count": 63,
      "outputs": [
        {
          "output_type": "stream",
          "name": "stdout",
          "text": [
            "Chi-Square Statistic: 22.161728395061726\n",
            "P-Value: 0.00018609719479882557\n",
            "Degrees of Freedom: 4\n",
            "Expected Frequencies:\n",
            "[[34.48275862 34.48275862 31.03448276]\n",
            " [34.48275862 34.48275862 31.03448276]\n",
            " [31.03448276 31.03448276 27.93103448]]\n",
            "There is a significant difference in job performance levels before and after training.\n"
          ]
        }
      ]
    },
    {
      "cell_type": "markdown",
      "source": [
        "**ANOVA Test**"
      ],
      "metadata": {
        "id": "MXdD03EO5Biy"
      }
    },
    {
      "cell_type": "code",
      "source": [
        "#Ans24\n",
        "standard_scores = [80, 85, 90, 78, 88, 82, 92, 78, 85, 87]\n",
        "premium_scores = [90, 92, 88, 92, 95, 91, 96, 93, 89, 93]\n",
        "deluxe_scores = [95, 98, 92, 97, 96, 94, 98, 97, 92, 99]\n",
        "\n",
        "f_statistic, p_value = stats.f_oneway(standard_scores, premium_scores, deluxe_scores)\n",
        "\n",
        "print(f\"F-Statistic: {f_statistic}\")\n",
        "print(f\"P-Value: {p_value}\")\n",
        "\n",
        "if p_value < 0.05:\n",
        "    print(\"There is a significant difference in customer satisfaction scores among the three product versions.\")\n",
        "else:\n",
        "    print(\"There is no significant difference in customer satisfaction scores among the three product versions.\")\n"
      ],
      "metadata": {
        "colab": {
          "base_uri": "https://localhost:8080/"
        },
        "id": "puJ-dMm-4yCD",
        "outputId": "5d16546f-f333-4324-c4a8-6a09118a7b78"
      },
      "execution_count": 64,
      "outputs": [
        {
          "output_type": "stream",
          "name": "stdout",
          "text": [
            "F-Statistic: 27.03556231003039\n",
            "P-Value: 3.5786328857349003e-07\n",
            "There is a significant difference in customer satisfaction scores among the three product versions.\n"
          ]
        }
      ]
    }
  ]
}